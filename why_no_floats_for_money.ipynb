{
 "cells": [
  {
   "cell_type": "markdown",
   "id": "c44eff5d-8564-472d-81dd-f52ccd15943c",
   "metadata": {},
   "source": [
    "# Why you shouldn't use floats for money in Python (or any other programming language)\n",
    "\n",
    "Let's first start with some simple substraction example:"
   ]
  },
  {
   "cell_type": "code",
   "execution_count": 2,
   "id": "03313fa6-85b6-4d73-9336-61a17feeb991",
   "metadata": {
    "tags": []
   },
   "outputs": [
    {
     "name": "stdout",
     "output_type": "stream",
     "text": [
      "0.0\n"
     ]
    }
   ],
   "source": [
    "result_simple = 100.25 - 99.5 - 0.75\n",
    "print(result_simple)"
   ]
  },
  {
   "cell_type": "markdown",
   "id": "2d4e66b1-c012-42e0-98a5-6c84c68883ac",
   "metadata": {},
   "source": [
    "(100.25 - 99.5 - 0.75) result is 0 as you would normally expect. We can actually even try to compare it with 0:"
   ]
  },
  {
   "cell_type": "code",
   "execution_count": 3,
   "id": "03dae450-8d5a-4144-ba58-b8ec8933f510",
   "metadata": {
    "tags": []
   },
   "outputs": [
    {
     "data": {
      "text/plain": [
       "True"
      ]
     },
     "execution_count": 3,
     "metadata": {},
     "output_type": "execute_result"
    }
   ],
   "source": [
    "result_simple == 0.0"
   ]
  },
  {
   "cell_type": "markdown",
   "id": "8d211e83-095d-4966-94bd-97ed9f76fe3e",
   "metadata": {},
   "source": [
    "Now let's try another example:"
   ]
  },
  {
   "cell_type": "code",
   "execution_count": 4,
   "id": "feb30164-a55a-4a41-b119-08fd2d5df1fa",
   "metadata": {
    "tags": []
   },
   "outputs": [
    {
     "data": {
      "text/plain": [
       "False"
      ]
     },
     "execution_count": 4,
     "metadata": {},
     "output_type": "execute_result"
    }
   ],
   "source": [
    "(100.1 - 99.9 - 0.2) == 0.0"
   ]
  },
  {
   "cell_type": "markdown",
   "id": "05a2abc7-7583-448d-a924-5a1269400882",
   "metadata": {},
   "source": [
    "It is **False** and we for sure have not expected that !!! If it is not zero, let's check what it is:"
   ]
  },
  {
   "cell_type": "code",
   "execution_count": 5,
   "id": "cca5926f-8f1c-46c7-8c0c-7af72839a12e",
   "metadata": {
    "tags": []
   },
   "outputs": [
    {
     "name": "stdout",
     "output_type": "stream",
     "text": [
      "-1.1379786002407855e-14\n"
     ]
    }
   ],
   "source": [
    "print(100.1 - 99.9 - 0.2)"
   ]
  },
  {
   "cell_type": "markdown",
   "id": "19312018-b6ba-4b35-9509-3cbf2d8109f0",
   "metadata": {},
   "source": [
    "It appears to be a very small negative number. Which is close to 0.0, but it is not 0.0 and it some cases it make your life as a developer very hard (why balance sheed does not balance itself out?, why paid invoice is not paid, why on paper profitable trading algorithm is closing trades with a loss and etc...).\n",
    "\n",
    "## Why it is so?\n",
    "\n",
    "So float (or double if you have it on your porgramming language) are binary numbers. This means that your decimal numbers are represented as a sum of 2 to the power of x. For example:\n",
    "\n",
    "0 -> 2^-1\n",
    "\n",
    "1 -> 2^0\n",
    "\n",
    "3 -> 2^1 + 2^0\n",
    "\n",
    "...\n",
    "\n",
    "or in case of decimal points:\n",
    "\n",
    "0.5 -> 2^-2 (1/2)\n",
    "\n",
    "0.25 -> 2^-3 (1/4)\n",
    "\n",
    "0.75 -> 2^-2 + 2^-3 (1/2 + 1/4)\n",
    "\n",
    "**0.1 - > 2^-5 + ... .. (1/16 + ...). This one converges to 0.1 at infinity, but unfortunately you have a finate number of bytes for the number so you endup with a number close to 0.1.**\n",
    "\n",
    "To sum it all up - you cannot correctly represent 0.1 or 0.2 or 0.9 correctly with a binary the same way you cannot represent correctly 1/3(0.3333...) with a decimal number system. Which is OK, only that we as humans are not used to solve those inconsistencys (I can guess that 0.33 meant 1/3, but I can't guess that 0.1 is something else: .\n"
   ]
  },
  {
   "cell_type": "code",
   "execution_count": 24,
   "id": "69477096-8e02-4347-a22f-b54388200295",
   "metadata": {
    "tags": []
   },
   "outputs": [
    {
     "data": {
      "text/plain": [
       "'0.1 in python is actualy equal to this: 0.1000000000000000055511151231257827021181583404541015625000000000'"
      ]
     },
     "execution_count": 24,
     "metadata": {},
     "output_type": "execute_result"
    }
   ],
   "source": [
    "f\"0.1 in python is actualy equal to this: {0.1:.64f}\""
   ]
  },
  {
   "cell_type": "markdown",
   "id": "c093035a-f9a1-48dd-b170-35a47bb062e3",
   "metadata": {
    "tags": []
   },
   "source": [
    "## How To solve it (use Decimal, always use Decimal)\n",
    "\n",
    "In python you can use `decimal.Decimal` fro the standard library. I believe all of the other mainstream languages should have something similar:"
   ]
  },
  {
   "cell_type": "code",
   "execution_count": 15,
   "id": "9f7a2f3f-bb27-4d53-96af-67c2a9ad802a",
   "metadata": {
    "tags": []
   },
   "outputs": [
    {
     "data": {
      "text/plain": [
       "Decimal('0.0')"
      ]
     },
     "execution_count": 15,
     "metadata": {},
     "output_type": "execute_result"
    }
   ],
   "source": [
    "from decimal import Decimal\n",
    "\n",
    "Decimal(\"100.1\") - Decimal(\"99.9\") - Decimal(\"0.2\")"
   ]
  },
  {
   "cell_type": "code",
   "execution_count": 21,
   "id": "6f368566-200e-4d98-ab57-c6e313272997",
   "metadata": {
    "tags": []
   },
   "outputs": [
    {
     "data": {
      "text/plain": [
       "'0.1000000000000000055511151231257827021181583404541015625000000000'"
      ]
     },
     "execution_count": 21,
     "metadata": {},
     "output_type": "execute_result"
    }
   ],
   "source": [
    "f\"{0.1:.64f}\""
   ]
  },
  {
   "cell_type": "code",
   "execution_count": null,
   "id": "470a05bd-3b4d-4eb1-8ddc-8364bbb51c41",
   "metadata": {},
   "outputs": [],
   "source": []
  }
 ],
 "metadata": {
  "kernelspec": {
   "display_name": "Python 3 (ipykernel)",
   "language": "python",
   "name": "python3"
  },
  "language_info": {
   "codemirror_mode": {
    "name": "ipython",
    "version": 3
   },
   "file_extension": ".py",
   "mimetype": "text/x-python",
   "name": "python",
   "nbconvert_exporter": "python",
   "pygments_lexer": "ipython3",
   "version": "3.10.8"
  }
 },
 "nbformat": 4,
 "nbformat_minor": 5
}
